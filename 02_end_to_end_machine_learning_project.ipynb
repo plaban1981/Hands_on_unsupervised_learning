{
  "nbformat": 4,
  "nbformat_minor": 0,
  "metadata": {
    "colab": {
      "name": "02_end_to_end_machine_learning_project.ipynb",
      "provenance": [],
      "authorship_tag": "ABX9TyPuldRzNVv5hWmoSlLBWkzs",
      "include_colab_link": true
    },
    "kernelspec": {
      "name": "python3",
      "display_name": "Python 3"
    }
  },
  "cells": [
    {
      "cell_type": "markdown",
      "metadata": {
        "id": "view-in-github",
        "colab_type": "text"
      },
      "source": [
        "<a href=\"https://colab.research.google.com/github/plaban1981/Hands_on_unsupervised_learning/blob/master/02_end_to_end_machine_learning_project.ipynb\" target=\"_parent\"><img src=\"https://colab.research.google.com/assets/colab-badge.svg\" alt=\"Open In Colab\"/></a>"
      ]
    },
    {
      "cell_type": "markdown",
      "metadata": {
        "id": "YYZwPg5QIbmN",
        "colab_type": "text"
      },
      "source": [
        "## Load Libraries"
      ]
    },
    {
      "cell_type": "code",
      "metadata": {
        "id": "TmP6twNSGhbs",
        "colab_type": "code",
        "colab": {
          "base_uri": "https://localhost:8080/",
          "height": 71
        },
        "outputId": "8da26cca-b606-4c24-d104-1239a4cd7b83"
      },
      "source": [
        "import pandas as pd\n",
        "import numpy as np\n",
        "import matplotlib.pyplot as plt\n",
        "import seaborn as sns\n",
        "\n",
        "%matplotlib inline\n",
        "\n",
        "'''Data Prep'''\n",
        "from sklearn import preprocessing as pp \n",
        "from scipy.stats import pearsonr \n",
        "from sklearn.model_selection import train_test_split\n",
        "from sklearn.model_selection import StratifiedKFold \n",
        "from sklearn.metrics import log_loss \n",
        "from sklearn.metrics import precision_recall_curve, average_precision_score \n",
        "from sklearn.metrics import roc_curve, auc, roc_auc_score,accuracy_score\n",
        "from sklearn.metrics import confusion_matrix, classification_report \n",
        "\n",
        "'''Algos'''\n",
        "from sklearn.linear_model import LogisticRegression\n",
        "from sklearn.ensemble import RandomForestClassifier\n",
        "import xgboost as xgb\n",
        "import lightgbm as lgb"
      ],
      "execution_count": 1,
      "outputs": [
        {
          "output_type": "stream",
          "text": [
            "/usr/local/lib/python3.6/dist-packages/statsmodels/tools/_testing.py:19: FutureWarning: pandas.util.testing is deprecated. Use the functions in the public API at pandas.testing instead.\n",
            "  import pandas.util.testing as tm\n"
          ],
          "name": "stderr"
        }
      ]
    },
    {
      "cell_type": "markdown",
      "metadata": {
        "id": "r8ukjm2XGK_j",
        "colab_type": "text"
      },
      "source": [
        "## Load Data - Credit Card Fraud"
      ]
    },
    {
      "cell_type": "code",
      "metadata": {
        "id": "cqqzu9PyD6Se",
        "colab_type": "code",
        "outputId": "7566b257-cc49-47bc-b1d1-95467c64aae0",
        "colab": {
          "base_uri": "https://localhost:8080/",
          "height": 224
        }
      },
      "source": [
        "\n",
        "df = pd.read_csv('https://media.githubusercontent.com/media/aapatel09/handson-unsupervised-learning/master/datasets/credit_card_data/credit_card.csv')\n",
        "df.head()"
      ],
      "execution_count": 2,
      "outputs": [
        {
          "output_type": "execute_result",
          "data": {
            "text/html": [
              "<div>\n",
              "<style scoped>\n",
              "    .dataframe tbody tr th:only-of-type {\n",
              "        vertical-align: middle;\n",
              "    }\n",
              "\n",
              "    .dataframe tbody tr th {\n",
              "        vertical-align: top;\n",
              "    }\n",
              "\n",
              "    .dataframe thead th {\n",
              "        text-align: right;\n",
              "    }\n",
              "</style>\n",
              "<table border=\"1\" class=\"dataframe\">\n",
              "  <thead>\n",
              "    <tr style=\"text-align: right;\">\n",
              "      <th></th>\n",
              "      <th>Time</th>\n",
              "      <th>V1</th>\n",
              "      <th>V2</th>\n",
              "      <th>V3</th>\n",
              "      <th>V4</th>\n",
              "      <th>V5</th>\n",
              "      <th>V6</th>\n",
              "      <th>V7</th>\n",
              "      <th>V8</th>\n",
              "      <th>V9</th>\n",
              "      <th>V10</th>\n",
              "      <th>V11</th>\n",
              "      <th>V12</th>\n",
              "      <th>V13</th>\n",
              "      <th>V14</th>\n",
              "      <th>V15</th>\n",
              "      <th>V16</th>\n",
              "      <th>V17</th>\n",
              "      <th>V18</th>\n",
              "      <th>V19</th>\n",
              "      <th>V20</th>\n",
              "      <th>V21</th>\n",
              "      <th>V22</th>\n",
              "      <th>V23</th>\n",
              "      <th>V24</th>\n",
              "      <th>V25</th>\n",
              "      <th>V26</th>\n",
              "      <th>V27</th>\n",
              "      <th>V28</th>\n",
              "      <th>Amount</th>\n",
              "      <th>Class</th>\n",
              "    </tr>\n",
              "  </thead>\n",
              "  <tbody>\n",
              "    <tr>\n",
              "      <th>0</th>\n",
              "      <td>0.0</td>\n",
              "      <td>-1.359807</td>\n",
              "      <td>-0.072781</td>\n",
              "      <td>2.536347</td>\n",
              "      <td>1.378155</td>\n",
              "      <td>-0.338321</td>\n",
              "      <td>0.462388</td>\n",
              "      <td>0.239599</td>\n",
              "      <td>0.098698</td>\n",
              "      <td>0.363787</td>\n",
              "      <td>0.090794</td>\n",
              "      <td>-0.551600</td>\n",
              "      <td>-0.617801</td>\n",
              "      <td>-0.991390</td>\n",
              "      <td>-0.311169</td>\n",
              "      <td>1.468177</td>\n",
              "      <td>-0.470401</td>\n",
              "      <td>0.207971</td>\n",
              "      <td>0.025791</td>\n",
              "      <td>0.403993</td>\n",
              "      <td>0.251412</td>\n",
              "      <td>-0.018307</td>\n",
              "      <td>0.277838</td>\n",
              "      <td>-0.110474</td>\n",
              "      <td>0.066928</td>\n",
              "      <td>0.128539</td>\n",
              "      <td>-0.189115</td>\n",
              "      <td>0.133558</td>\n",
              "      <td>-0.021053</td>\n",
              "      <td>149.62</td>\n",
              "      <td>0</td>\n",
              "    </tr>\n",
              "    <tr>\n",
              "      <th>1</th>\n",
              "      <td>0.0</td>\n",
              "      <td>1.191857</td>\n",
              "      <td>0.266151</td>\n",
              "      <td>0.166480</td>\n",
              "      <td>0.448154</td>\n",
              "      <td>0.060018</td>\n",
              "      <td>-0.082361</td>\n",
              "      <td>-0.078803</td>\n",
              "      <td>0.085102</td>\n",
              "      <td>-0.255425</td>\n",
              "      <td>-0.166974</td>\n",
              "      <td>1.612727</td>\n",
              "      <td>1.065235</td>\n",
              "      <td>0.489095</td>\n",
              "      <td>-0.143772</td>\n",
              "      <td>0.635558</td>\n",
              "      <td>0.463917</td>\n",
              "      <td>-0.114805</td>\n",
              "      <td>-0.183361</td>\n",
              "      <td>-0.145783</td>\n",
              "      <td>-0.069083</td>\n",
              "      <td>-0.225775</td>\n",
              "      <td>-0.638672</td>\n",
              "      <td>0.101288</td>\n",
              "      <td>-0.339846</td>\n",
              "      <td>0.167170</td>\n",
              "      <td>0.125895</td>\n",
              "      <td>-0.008983</td>\n",
              "      <td>0.014724</td>\n",
              "      <td>2.69</td>\n",
              "      <td>0</td>\n",
              "    </tr>\n",
              "    <tr>\n",
              "      <th>2</th>\n",
              "      <td>1.0</td>\n",
              "      <td>-1.358354</td>\n",
              "      <td>-1.340163</td>\n",
              "      <td>1.773209</td>\n",
              "      <td>0.379780</td>\n",
              "      <td>-0.503198</td>\n",
              "      <td>1.800499</td>\n",
              "      <td>0.791461</td>\n",
              "      <td>0.247676</td>\n",
              "      <td>-1.514654</td>\n",
              "      <td>0.207643</td>\n",
              "      <td>0.624501</td>\n",
              "      <td>0.066084</td>\n",
              "      <td>0.717293</td>\n",
              "      <td>-0.165946</td>\n",
              "      <td>2.345865</td>\n",
              "      <td>-2.890083</td>\n",
              "      <td>1.109969</td>\n",
              "      <td>-0.121359</td>\n",
              "      <td>-2.261857</td>\n",
              "      <td>0.524980</td>\n",
              "      <td>0.247998</td>\n",
              "      <td>0.771679</td>\n",
              "      <td>0.909412</td>\n",
              "      <td>-0.689281</td>\n",
              "      <td>-0.327642</td>\n",
              "      <td>-0.139097</td>\n",
              "      <td>-0.055353</td>\n",
              "      <td>-0.059752</td>\n",
              "      <td>378.66</td>\n",
              "      <td>0</td>\n",
              "    </tr>\n",
              "    <tr>\n",
              "      <th>3</th>\n",
              "      <td>1.0</td>\n",
              "      <td>-0.966272</td>\n",
              "      <td>-0.185226</td>\n",
              "      <td>1.792993</td>\n",
              "      <td>-0.863291</td>\n",
              "      <td>-0.010309</td>\n",
              "      <td>1.247203</td>\n",
              "      <td>0.237609</td>\n",
              "      <td>0.377436</td>\n",
              "      <td>-1.387024</td>\n",
              "      <td>-0.054952</td>\n",
              "      <td>-0.226487</td>\n",
              "      <td>0.178228</td>\n",
              "      <td>0.507757</td>\n",
              "      <td>-0.287924</td>\n",
              "      <td>-0.631418</td>\n",
              "      <td>-1.059647</td>\n",
              "      <td>-0.684093</td>\n",
              "      <td>1.965775</td>\n",
              "      <td>-1.232622</td>\n",
              "      <td>-0.208038</td>\n",
              "      <td>-0.108300</td>\n",
              "      <td>0.005274</td>\n",
              "      <td>-0.190321</td>\n",
              "      <td>-1.175575</td>\n",
              "      <td>0.647376</td>\n",
              "      <td>-0.221929</td>\n",
              "      <td>0.062723</td>\n",
              "      <td>0.061458</td>\n",
              "      <td>123.50</td>\n",
              "      <td>0</td>\n",
              "    </tr>\n",
              "    <tr>\n",
              "      <th>4</th>\n",
              "      <td>2.0</td>\n",
              "      <td>-1.158233</td>\n",
              "      <td>0.877737</td>\n",
              "      <td>1.548718</td>\n",
              "      <td>0.403034</td>\n",
              "      <td>-0.407193</td>\n",
              "      <td>0.095921</td>\n",
              "      <td>0.592941</td>\n",
              "      <td>-0.270533</td>\n",
              "      <td>0.817739</td>\n",
              "      <td>0.753074</td>\n",
              "      <td>-0.822843</td>\n",
              "      <td>0.538196</td>\n",
              "      <td>1.345852</td>\n",
              "      <td>-1.119670</td>\n",
              "      <td>0.175121</td>\n",
              "      <td>-0.451449</td>\n",
              "      <td>-0.237033</td>\n",
              "      <td>-0.038195</td>\n",
              "      <td>0.803487</td>\n",
              "      <td>0.408542</td>\n",
              "      <td>-0.009431</td>\n",
              "      <td>0.798278</td>\n",
              "      <td>-0.137458</td>\n",
              "      <td>0.141267</td>\n",
              "      <td>-0.206010</td>\n",
              "      <td>0.502292</td>\n",
              "      <td>0.219422</td>\n",
              "      <td>0.215153</td>\n",
              "      <td>69.99</td>\n",
              "      <td>0</td>\n",
              "    </tr>\n",
              "  </tbody>\n",
              "</table>\n",
              "</div>"
            ],
            "text/plain": [
              "   Time        V1        V2        V3  ...       V27       V28  Amount  Class\n",
              "0   0.0 -1.359807 -0.072781  2.536347  ...  0.133558 -0.021053  149.62      0\n",
              "1   0.0  1.191857  0.266151  0.166480  ... -0.008983  0.014724    2.69      0\n",
              "2   1.0 -1.358354 -1.340163  1.773209  ... -0.055353 -0.059752  378.66      0\n",
              "3   1.0 -0.966272 -0.185226  1.792993  ...  0.062723  0.061458  123.50      0\n",
              "4   2.0 -1.158233  0.877737  1.548718  ...  0.219422  0.215153   69.99      0\n",
              "\n",
              "[5 rows x 31 columns]"
            ]
          },
          "metadata": {
            "tags": []
          },
          "execution_count": 2
        }
      ]
    },
    {
      "cell_type": "markdown",
      "metadata": {
        "id": "2D9aU_w0GNxr",
        "colab_type": "text"
      },
      "source": [
        "##Check for null values"
      ]
    },
    {
      "cell_type": "code",
      "metadata": {
        "id": "dyYekM2rFOuu",
        "colab_type": "code",
        "outputId": "df6888bf-91b4-43ac-e037-b3466812af2f",
        "colab": {
          "base_uri": "https://localhost:8080/",
          "height": 34
        }
      },
      "source": [
        "df.isnull().sum()[df.isnull().sum() > 0]"
      ],
      "execution_count": 3,
      "outputs": [
        {
          "output_type": "execute_result",
          "data": {
            "text/plain": [
              "Series([], dtype: int64)"
            ]
          },
          "metadata": {
            "tags": []
          },
          "execution_count": 3
        }
      ]
    },
    {
      "cell_type": "markdown",
      "metadata": {
        "id": "NjS7VAkJGRpl",
        "colab_type": "text"
      },
      "source": [
        "## Data Statistics"
      ]
    },
    {
      "cell_type": "code",
      "metadata": {
        "id": "3OfxuXEgEZUD",
        "colab_type": "code",
        "outputId": "edec9175-284c-4a87-e855-5a7919cd0fc7",
        "colab": {
          "base_uri": "https://localhost:8080/",
          "height": 317
        }
      },
      "source": [
        "df.describe()"
      ],
      "execution_count": 4,
      "outputs": [
        {
          "output_type": "execute_result",
          "data": {
            "text/html": [
              "<div>\n",
              "<style scoped>\n",
              "    .dataframe tbody tr th:only-of-type {\n",
              "        vertical-align: middle;\n",
              "    }\n",
              "\n",
              "    .dataframe tbody tr th {\n",
              "        vertical-align: top;\n",
              "    }\n",
              "\n",
              "    .dataframe thead th {\n",
              "        text-align: right;\n",
              "    }\n",
              "</style>\n",
              "<table border=\"1\" class=\"dataframe\">\n",
              "  <thead>\n",
              "    <tr style=\"text-align: right;\">\n",
              "      <th></th>\n",
              "      <th>Time</th>\n",
              "      <th>V1</th>\n",
              "      <th>V2</th>\n",
              "      <th>V3</th>\n",
              "      <th>V4</th>\n",
              "      <th>V5</th>\n",
              "      <th>V6</th>\n",
              "      <th>V7</th>\n",
              "      <th>V8</th>\n",
              "      <th>V9</th>\n",
              "      <th>V10</th>\n",
              "      <th>V11</th>\n",
              "      <th>V12</th>\n",
              "      <th>V13</th>\n",
              "      <th>V14</th>\n",
              "      <th>V15</th>\n",
              "      <th>V16</th>\n",
              "      <th>V17</th>\n",
              "      <th>V18</th>\n",
              "      <th>V19</th>\n",
              "      <th>V20</th>\n",
              "      <th>V21</th>\n",
              "      <th>V22</th>\n",
              "      <th>V23</th>\n",
              "      <th>V24</th>\n",
              "      <th>V25</th>\n",
              "      <th>V26</th>\n",
              "      <th>V27</th>\n",
              "      <th>V28</th>\n",
              "      <th>Amount</th>\n",
              "      <th>Class</th>\n",
              "    </tr>\n",
              "  </thead>\n",
              "  <tbody>\n",
              "    <tr>\n",
              "      <th>count</th>\n",
              "      <td>284807.000000</td>\n",
              "      <td>2.848070e+05</td>\n",
              "      <td>2.848070e+05</td>\n",
              "      <td>2.848070e+05</td>\n",
              "      <td>2.848070e+05</td>\n",
              "      <td>2.848070e+05</td>\n",
              "      <td>2.848070e+05</td>\n",
              "      <td>2.848070e+05</td>\n",
              "      <td>2.848070e+05</td>\n",
              "      <td>2.848070e+05</td>\n",
              "      <td>2.848070e+05</td>\n",
              "      <td>2.848070e+05</td>\n",
              "      <td>2.848070e+05</td>\n",
              "      <td>2.848070e+05</td>\n",
              "      <td>2.848070e+05</td>\n",
              "      <td>2.848070e+05</td>\n",
              "      <td>2.848070e+05</td>\n",
              "      <td>2.848070e+05</td>\n",
              "      <td>2.848070e+05</td>\n",
              "      <td>2.848070e+05</td>\n",
              "      <td>2.848070e+05</td>\n",
              "      <td>2.848070e+05</td>\n",
              "      <td>2.848070e+05</td>\n",
              "      <td>2.848070e+05</td>\n",
              "      <td>2.848070e+05</td>\n",
              "      <td>2.848070e+05</td>\n",
              "      <td>2.848070e+05</td>\n",
              "      <td>2.848070e+05</td>\n",
              "      <td>2.848070e+05</td>\n",
              "      <td>284807.000000</td>\n",
              "      <td>284807.000000</td>\n",
              "    </tr>\n",
              "    <tr>\n",
              "      <th>mean</th>\n",
              "      <td>94813.859575</td>\n",
              "      <td>3.919560e-15</td>\n",
              "      <td>5.688174e-16</td>\n",
              "      <td>-8.769071e-15</td>\n",
              "      <td>2.782312e-15</td>\n",
              "      <td>-1.552563e-15</td>\n",
              "      <td>2.010663e-15</td>\n",
              "      <td>-1.694249e-15</td>\n",
              "      <td>-1.927028e-16</td>\n",
              "      <td>-3.137024e-15</td>\n",
              "      <td>1.768627e-15</td>\n",
              "      <td>9.170318e-16</td>\n",
              "      <td>-1.810658e-15</td>\n",
              "      <td>1.693438e-15</td>\n",
              "      <td>1.479045e-15</td>\n",
              "      <td>3.482336e-15</td>\n",
              "      <td>1.392007e-15</td>\n",
              "      <td>-7.528491e-16</td>\n",
              "      <td>4.328772e-16</td>\n",
              "      <td>9.049732e-16</td>\n",
              "      <td>5.085503e-16</td>\n",
              "      <td>1.537294e-16</td>\n",
              "      <td>7.959909e-16</td>\n",
              "      <td>5.367590e-16</td>\n",
              "      <td>4.458112e-15</td>\n",
              "      <td>1.453003e-15</td>\n",
              "      <td>1.699104e-15</td>\n",
              "      <td>-3.660161e-16</td>\n",
              "      <td>-1.206049e-16</td>\n",
              "      <td>88.349619</td>\n",
              "      <td>0.001727</td>\n",
              "    </tr>\n",
              "    <tr>\n",
              "      <th>std</th>\n",
              "      <td>47488.145955</td>\n",
              "      <td>1.958696e+00</td>\n",
              "      <td>1.651309e+00</td>\n",
              "      <td>1.516255e+00</td>\n",
              "      <td>1.415869e+00</td>\n",
              "      <td>1.380247e+00</td>\n",
              "      <td>1.332271e+00</td>\n",
              "      <td>1.237094e+00</td>\n",
              "      <td>1.194353e+00</td>\n",
              "      <td>1.098632e+00</td>\n",
              "      <td>1.088850e+00</td>\n",
              "      <td>1.020713e+00</td>\n",
              "      <td>9.992014e-01</td>\n",
              "      <td>9.952742e-01</td>\n",
              "      <td>9.585956e-01</td>\n",
              "      <td>9.153160e-01</td>\n",
              "      <td>8.762529e-01</td>\n",
              "      <td>8.493371e-01</td>\n",
              "      <td>8.381762e-01</td>\n",
              "      <td>8.140405e-01</td>\n",
              "      <td>7.709250e-01</td>\n",
              "      <td>7.345240e-01</td>\n",
              "      <td>7.257016e-01</td>\n",
              "      <td>6.244603e-01</td>\n",
              "      <td>6.056471e-01</td>\n",
              "      <td>5.212781e-01</td>\n",
              "      <td>4.822270e-01</td>\n",
              "      <td>4.036325e-01</td>\n",
              "      <td>3.300833e-01</td>\n",
              "      <td>250.120109</td>\n",
              "      <td>0.041527</td>\n",
              "    </tr>\n",
              "    <tr>\n",
              "      <th>min</th>\n",
              "      <td>0.000000</td>\n",
              "      <td>-5.640751e+01</td>\n",
              "      <td>-7.271573e+01</td>\n",
              "      <td>-4.832559e+01</td>\n",
              "      <td>-5.683171e+00</td>\n",
              "      <td>-1.137433e+02</td>\n",
              "      <td>-2.616051e+01</td>\n",
              "      <td>-4.355724e+01</td>\n",
              "      <td>-7.321672e+01</td>\n",
              "      <td>-1.343407e+01</td>\n",
              "      <td>-2.458826e+01</td>\n",
              "      <td>-4.797473e+00</td>\n",
              "      <td>-1.868371e+01</td>\n",
              "      <td>-5.791881e+00</td>\n",
              "      <td>-1.921433e+01</td>\n",
              "      <td>-4.498945e+00</td>\n",
              "      <td>-1.412985e+01</td>\n",
              "      <td>-2.516280e+01</td>\n",
              "      <td>-9.498746e+00</td>\n",
              "      <td>-7.213527e+00</td>\n",
              "      <td>-5.449772e+01</td>\n",
              "      <td>-3.483038e+01</td>\n",
              "      <td>-1.093314e+01</td>\n",
              "      <td>-4.480774e+01</td>\n",
              "      <td>-2.836627e+00</td>\n",
              "      <td>-1.029540e+01</td>\n",
              "      <td>-2.604551e+00</td>\n",
              "      <td>-2.256568e+01</td>\n",
              "      <td>-1.543008e+01</td>\n",
              "      <td>0.000000</td>\n",
              "      <td>0.000000</td>\n",
              "    </tr>\n",
              "    <tr>\n",
              "      <th>25%</th>\n",
              "      <td>54201.500000</td>\n",
              "      <td>-9.203734e-01</td>\n",
              "      <td>-5.985499e-01</td>\n",
              "      <td>-8.903648e-01</td>\n",
              "      <td>-8.486401e-01</td>\n",
              "      <td>-6.915971e-01</td>\n",
              "      <td>-7.682956e-01</td>\n",
              "      <td>-5.540759e-01</td>\n",
              "      <td>-2.086297e-01</td>\n",
              "      <td>-6.430976e-01</td>\n",
              "      <td>-5.354257e-01</td>\n",
              "      <td>-7.624942e-01</td>\n",
              "      <td>-4.055715e-01</td>\n",
              "      <td>-6.485393e-01</td>\n",
              "      <td>-4.255740e-01</td>\n",
              "      <td>-5.828843e-01</td>\n",
              "      <td>-4.680368e-01</td>\n",
              "      <td>-4.837483e-01</td>\n",
              "      <td>-4.988498e-01</td>\n",
              "      <td>-4.562989e-01</td>\n",
              "      <td>-2.117214e-01</td>\n",
              "      <td>-2.283949e-01</td>\n",
              "      <td>-5.423504e-01</td>\n",
              "      <td>-1.618463e-01</td>\n",
              "      <td>-3.545861e-01</td>\n",
              "      <td>-3.171451e-01</td>\n",
              "      <td>-3.269839e-01</td>\n",
              "      <td>-7.083953e-02</td>\n",
              "      <td>-5.295979e-02</td>\n",
              "      <td>5.600000</td>\n",
              "      <td>0.000000</td>\n",
              "    </tr>\n",
              "    <tr>\n",
              "      <th>50%</th>\n",
              "      <td>84692.000000</td>\n",
              "      <td>1.810880e-02</td>\n",
              "      <td>6.548556e-02</td>\n",
              "      <td>1.798463e-01</td>\n",
              "      <td>-1.984653e-02</td>\n",
              "      <td>-5.433583e-02</td>\n",
              "      <td>-2.741871e-01</td>\n",
              "      <td>4.010308e-02</td>\n",
              "      <td>2.235804e-02</td>\n",
              "      <td>-5.142873e-02</td>\n",
              "      <td>-9.291738e-02</td>\n",
              "      <td>-3.275735e-02</td>\n",
              "      <td>1.400326e-01</td>\n",
              "      <td>-1.356806e-02</td>\n",
              "      <td>5.060132e-02</td>\n",
              "      <td>4.807155e-02</td>\n",
              "      <td>6.641332e-02</td>\n",
              "      <td>-6.567575e-02</td>\n",
              "      <td>-3.636312e-03</td>\n",
              "      <td>3.734823e-03</td>\n",
              "      <td>-6.248109e-02</td>\n",
              "      <td>-2.945017e-02</td>\n",
              "      <td>6.781943e-03</td>\n",
              "      <td>-1.119293e-02</td>\n",
              "      <td>4.097606e-02</td>\n",
              "      <td>1.659350e-02</td>\n",
              "      <td>-5.213911e-02</td>\n",
              "      <td>1.342146e-03</td>\n",
              "      <td>1.124383e-02</td>\n",
              "      <td>22.000000</td>\n",
              "      <td>0.000000</td>\n",
              "    </tr>\n",
              "    <tr>\n",
              "      <th>75%</th>\n",
              "      <td>139320.500000</td>\n",
              "      <td>1.315642e+00</td>\n",
              "      <td>8.037239e-01</td>\n",
              "      <td>1.027196e+00</td>\n",
              "      <td>7.433413e-01</td>\n",
              "      <td>6.119264e-01</td>\n",
              "      <td>3.985649e-01</td>\n",
              "      <td>5.704361e-01</td>\n",
              "      <td>3.273459e-01</td>\n",
              "      <td>5.971390e-01</td>\n",
              "      <td>4.539234e-01</td>\n",
              "      <td>7.395934e-01</td>\n",
              "      <td>6.182380e-01</td>\n",
              "      <td>6.625050e-01</td>\n",
              "      <td>4.931498e-01</td>\n",
              "      <td>6.488208e-01</td>\n",
              "      <td>5.232963e-01</td>\n",
              "      <td>3.996750e-01</td>\n",
              "      <td>5.008067e-01</td>\n",
              "      <td>4.589494e-01</td>\n",
              "      <td>1.330408e-01</td>\n",
              "      <td>1.863772e-01</td>\n",
              "      <td>5.285536e-01</td>\n",
              "      <td>1.476421e-01</td>\n",
              "      <td>4.395266e-01</td>\n",
              "      <td>3.507156e-01</td>\n",
              "      <td>2.409522e-01</td>\n",
              "      <td>9.104512e-02</td>\n",
              "      <td>7.827995e-02</td>\n",
              "      <td>77.165000</td>\n",
              "      <td>0.000000</td>\n",
              "    </tr>\n",
              "    <tr>\n",
              "      <th>max</th>\n",
              "      <td>172792.000000</td>\n",
              "      <td>2.454930e+00</td>\n",
              "      <td>2.205773e+01</td>\n",
              "      <td>9.382558e+00</td>\n",
              "      <td>1.687534e+01</td>\n",
              "      <td>3.480167e+01</td>\n",
              "      <td>7.330163e+01</td>\n",
              "      <td>1.205895e+02</td>\n",
              "      <td>2.000721e+01</td>\n",
              "      <td>1.559499e+01</td>\n",
              "      <td>2.374514e+01</td>\n",
              "      <td>1.201891e+01</td>\n",
              "      <td>7.848392e+00</td>\n",
              "      <td>7.126883e+00</td>\n",
              "      <td>1.052677e+01</td>\n",
              "      <td>8.877742e+00</td>\n",
              "      <td>1.731511e+01</td>\n",
              "      <td>9.253526e+00</td>\n",
              "      <td>5.041069e+00</td>\n",
              "      <td>5.591971e+00</td>\n",
              "      <td>3.942090e+01</td>\n",
              "      <td>2.720284e+01</td>\n",
              "      <td>1.050309e+01</td>\n",
              "      <td>2.252841e+01</td>\n",
              "      <td>4.584549e+00</td>\n",
              "      <td>7.519589e+00</td>\n",
              "      <td>3.517346e+00</td>\n",
              "      <td>3.161220e+01</td>\n",
              "      <td>3.384781e+01</td>\n",
              "      <td>25691.160000</td>\n",
              "      <td>1.000000</td>\n",
              "    </tr>\n",
              "  </tbody>\n",
              "</table>\n",
              "</div>"
            ],
            "text/plain": [
              "                Time            V1  ...         Amount          Class\n",
              "count  284807.000000  2.848070e+05  ...  284807.000000  284807.000000\n",
              "mean    94813.859575  3.919560e-15  ...      88.349619       0.001727\n",
              "std     47488.145955  1.958696e+00  ...     250.120109       0.041527\n",
              "min         0.000000 -5.640751e+01  ...       0.000000       0.000000\n",
              "25%     54201.500000 -9.203734e-01  ...       5.600000       0.000000\n",
              "50%     84692.000000  1.810880e-02  ...      22.000000       0.000000\n",
              "75%    139320.500000  1.315642e+00  ...      77.165000       0.000000\n",
              "max    172792.000000  2.454930e+00  ...   25691.160000       1.000000\n",
              "\n",
              "[8 rows x 31 columns]"
            ]
          },
          "metadata": {
            "tags": []
          },
          "execution_count": 4
        }
      ]
    },
    {
      "cell_type": "markdown",
      "metadata": {
        "id": "cbZjgGKDRac5",
        "colab_type": "text"
      },
      "source": [
        "##Correlation with output label"
      ]
    },
    {
      "cell_type": "code",
      "metadata": {
        "id": "zaHAoaCER-Rn",
        "colab_type": "code",
        "colab": {}
      },
      "source": [
        "corr = df[df.columns[1:]].corr()['Class'][:].to_dict()"
      ],
      "execution_count": 0,
      "outputs": []
    },
    {
      "cell_type": "code",
      "metadata": {
        "id": "v5ANsD1jTP4p",
        "colab_type": "code",
        "outputId": "40481374-ad15-47fb-8ed6-45fe7996f116",
        "colab": {
          "base_uri": "https://localhost:8080/",
          "height": 527
        }
      },
      "source": [
        "sorted(corr.items(), key=lambda x:np.abs(x[1]),reverse = True)"
      ],
      "execution_count": 6,
      "outputs": [
        {
          "output_type": "execute_result",
          "data": {
            "text/plain": [
              "[('Class', 1.0),\n",
              " ('V17', -0.32648106724269765),\n",
              " ('V14', -0.30254369580346246),\n",
              " ('V12', -0.2605929248764044),\n",
              " ('V10', -0.21688294364035493),\n",
              " ('V16', -0.1965389403034051),\n",
              " ('V3', -0.19296082706681578),\n",
              " ('V7', -0.1872565915137108),\n",
              " ('V11', 0.15487564474346413),\n",
              " ('V4', 0.1334474862385853),\n",
              " ('V18', -0.11148525388869356),\n",
              " ('V1', -0.10134729859476972),\n",
              " ('V9', -0.09773268607377422),\n",
              " ('V5', -0.09497429899115034),\n",
              " ('V2', 0.09128865034433538),\n",
              " ('V6', -0.04364316069982903),\n",
              " ('V21', 0.0404133806104527),\n",
              " ('V19', 0.03478301303640623),\n",
              " ('V20', 0.020090324196912198),\n",
              " ('V8', 0.01987512391473314),\n",
              " ('V27', 0.017579728189458178),\n",
              " ('V28', 0.009536040916206127),\n",
              " ('V24', -0.0072209067159303),\n",
              " ('Amount', 0.0056317530067495365),\n",
              " ('V13', -0.004569778799447076),\n",
              " ('V26', 0.004455397501269385),\n",
              " ('V15', -0.004223402267843587),\n",
              " ('V25', 0.0033077055972894065),\n",
              " ('V23', -0.002685155740242337),\n",
              " ('V22', 0.0008053175052959154)]"
            ]
          },
          "metadata": {
            "tags": []
          },
          "execution_count": 6
        }
      ]
    },
    {
      "cell_type": "code",
      "metadata": {
        "id": "tLVAmwF5ZmyK",
        "colab_type": "code",
        "outputId": "ee9bd955-784d-4093-e527-93b80ffab525",
        "colab": {
          "base_uri": "https://localhost:8080/",
          "height": 1000
        }
      },
      "source": [
        "plt.figure(figsize=(20,18))\n",
        "sns.heatmap(df.corr(),annot=True,fmt=\".2f\")"
      ],
      "execution_count": 7,
      "outputs": [
        {
          "output_type": "execute_result",
          "data": {
            "text/plain": [
              "<matplotlib.axes._subplots.AxesSubplot at 0x7f1a72eb8d68>"
            ]
          },
          "metadata": {
            "tags": []
          },
          "execution_count": 7
        },
        {
          "output_type": "display_data",
          "data": {
            "image/png": "[encoded data removed]",
            "text/plain": [
              "<Figure size 1440x1296 with 2 Axes>"
            ]
          },
          "metadata": {
            "tags": [],
            "needs_background": "light"
          }
        }
      ]
    },
    {
      "cell_type": "code",
      "metadata": {
        "id": "oZ59RwlkgInK",
        "colab_type": "code",
        "outputId": "4c197321-285e-4c8c-9624-2f8b1180f1de",
        "colab": {
          "base_uri": "https://localhost:8080/",
          "height": 34
        }
      },
      "source": [
        "df.shape"
      ],
      "execution_count": 8,
      "outputs": [
        {
          "output_type": "execute_result",
          "data": {
            "text/plain": [
              "(284807, 31)"
            ]
          },
          "metadata": {
            "tags": []
          },
          "execution_count": 8
        }
      ]
    },
    {
      "cell_type": "markdown",
      "metadata": {
        "id": "gc-kxRiffyDk",
        "colab_type": "text"
      },
      "source": [
        "here feature selection is not necessary as the number of observations (284807)vastly outnumbers the number of observations(30 fatures)"
      ]
    },
    {
      "cell_type": "markdown",
      "metadata": {
        "id": "pz1PUMh8a0Kb",
        "colab_type": "text"
      },
      "source": [
        "# Class Frequency Distribution"
      ]
    },
    {
      "cell_type": "code",
      "metadata": {
        "id": "qnYPk3nraxR9",
        "colab_type": "code",
        "outputId": "4fa8e8d8-ec57-4f28-ee77-017bb7ee2a8b",
        "colab": {
          "base_uri": "https://localhost:8080/",
          "height": 296
        }
      },
      "source": [
        "sns.countplot(x='Class',data=df)"
      ],
      "execution_count": 9,
      "outputs": [
        {
          "output_type": "execute_result",
          "data": {
            "text/plain": [
              "<matplotlib.axes._subplots.AxesSubplot at 0x7f1a6ebf62b0>"
            ]
          },
          "metadata": {
            "tags": []
          },
          "execution_count": 9
        },
        {
          "output_type": "display_data",
          "data": {
            "image/png": "[encoded data removed]",
            "text/plain": [
              "<Figure size 432x288 with 1 Axes>"
            ]
          },
          "metadata": {
            "tags": [],
            "needs_background": "light"
          }
        }
      ]
    },
    {
      "cell_type": "markdown",
      "metadata": {
        "id": "u3HoQMByfWfa",
        "colab_type": "text"
      },
      "source": [
        "The dataset is imbalanced"
      ]
    },
    {
      "cell_type": "markdown",
      "metadata": {
        "id": "Zh1AjvC4glA8",
        "colab_type": "text"
      },
      "source": [
        "# Model Preparation"
      ]
    },
    {
      "cell_type": "markdown",
      "metadata": {
        "id": "TY-p7rF8hqYO",
        "colab_type": "text"
      },
      "source": [
        "*Generate feature matrix and labels array*"
      ]
    },
    {
      "cell_type": "code",
      "metadata": {
        "id": "HQJ6GD6BhRCK",
        "colab_type": "code",
        "colab": {}
      },
      "source": [
        "\n",
        "X = df.copy().drop(['Class'],axis=1)\n",
        "Y = df['Class'].copy()"
      ],
      "execution_count": 0,
      "outputs": []
    },
    {
      "cell_type": "markdown",
      "metadata": {
        "id": "LjUYnIungx1a",
        "colab_type": "text"
      },
      "source": [
        "*Train Test Split*"
      ]
    },
    {
      "cell_type": "code",
      "metadata": {
        "id": "y5CplSxOfaMa",
        "colab_type": "code",
        "colab": {}
      },
      "source": [
        "X_train, X_test, y_train, y_test = train_test_split(X, Y, test_size=0.33,random_state=2018, stratify=Y)#startified split"
      ],
      "execution_count": 0,
      "outputs": []
    },
    {
      "cell_type": "code",
      "metadata": {
        "id": "TOP75gmeiBF9",
        "colab_type": "code",
        "outputId": "1f99dd8b-f449-472e-b44b-5a3944666d1a",
        "colab": {
          "base_uri": "https://localhost:8080/",
          "height": 51
        }
      },
      "source": [
        "print(f'train calss ratio :{y_train.sum()/len(y_train)}')\n",
        "print(f'test calss ratio :{y_test.sum()/len(y_test)}')"
      ],
      "execution_count": 12,
      "outputs": [
        {
          "output_type": "stream",
          "text": [
            "train calss ratio :0.0017293784718582959\n",
            "test calss ratio :0.0017236426314277506\n"
          ],
          "name": "stdout"
        }
      ]
    },
    {
      "cell_type": "code",
      "metadata": {
        "id": "RHkvAu2oieHt",
        "colab_type": "code",
        "outputId": "64c561bb-ffa1-4da6-b301-d95782dd6496",
        "colab": {
          "base_uri": "https://localhost:8080/",
          "height": 300
        }
      },
      "source": [
        "sns.countplot(y_train,color='green')\n",
        "sns.countplot(y_test)"
      ],
      "execution_count": 13,
      "outputs": [
        {
          "output_type": "execute_result",
          "data": {
            "text/plain": [
              "<matplotlib.axes._subplots.AxesSubplot at 0x7f1a6e6f7400>"
            ]
          },
          "metadata": {
            "tags": []
          },
          "execution_count": 13
        },
        {
          "output_type": "display_data",
          "data": {
            "image/png": "[encoded data removed]",
            "text/plain": [
              "<Figure size 432x288 with 1 Axes>"
            ]
          },
          "metadata": {
            "tags": [],
            "needs_background": "light"
          }
        }
      ]
    },
    {
      "cell_type": "markdown",
      "metadata": {
        "id": "8fjLuRjAuIGX",
        "colab_type": "text"
      },
      "source": [
        "*Cross Validation*"
      ]
    },
    {
      "cell_type": "code",
      "metadata": {
        "id": "5fYW6jWcuK-X",
        "colab_type": "code",
        "colab": {}
      },
      "source": [
        "k_fold = StratifiedKFold(n_splits=5,shuffle=True,random_state=2018)"
      ],
      "execution_count": 0,
      "outputs": []
    },
    {
      "cell_type": "markdown",
      "metadata": {
        "id": "nPrRK8VguPj_",
        "colab_type": "text"
      },
      "source": [
        "# Logistic Regression"
      ]
    },
    {
      "cell_type": "markdown",
      "metadata": {
        "id": "32FFcUUBuSHw",
        "colab_type": "text"
      },
      "source": [
        "*Handling Imbalance Data :*\n",
        "\n",
        "*By default, the errors for each class may be considered to have the same weighting, say 1.0. These weightings can be adjusted based on the importance of each class.*\n",
        "\n",
        "**minimize sum i to n -(w0 * log(yhat_i) * y_i + w1 * log(1 – yhat_i) * (1 – y_i))**\n",
        "\n",
        "\n",
        "*The weighting is applied to the loss so that smaller weight values result in a smaller error value, and in turn, less update to the model coefficients. A larger weight value results in a larger error calculation, and in turn, more update to the model coefficients.*\n",
        "\n",
        "* Small Weight: Less importance, less update to the model coefficients.\n",
        "* Large Weight: More importance, more update to the model coefficients. \n",
        "\n",
        "\n",
        "As such, the modified version of logistic regression is referred to as **Weighted Logistic Regression, Class-Weighted Logistic Regression or Cost-Sensitive Logistic Regression**.\n",
        "\n",
        "The weightings are sometimes referred to as importance weightings.\n",
        "\n",
        "Although straightforward to implement, the challenge of weighted logistic regression is the choice of the weighting to use for each class. italicized text "
      ]
    },
    {
      "cell_type": "markdown",
      "metadata": {
        "id": "mhiDgQDBfvfz",
        "colab_type": "text"
      },
      "source": [
        "https://machinelearningmastery.com/cost-sensitive-logistic-regression/"
      ]
    },
    {
      "cell_type": "markdown",
      "metadata": {
        "id": "DXdESBQSv0Ug",
        "colab_type": "text"
      },
      "source": [
        "# Weighted Logistic Regression with Scikit-Learn\n",
        "\n",
        "\n",
        "The scikit-learn Python machine learning library provides an implementation of logistic regression that supports class weighting.\n",
        "\n",
        "The LogisticRegression class provides the class_weight argument that can be specified as a model hyperparameter. The class_weight is a dictionary that defines each class label (e.g. 0 and 1) and the weighting to apply in the calculation of the negative log likelihood when fitting the model."
      ]
    },
    {
      "cell_type": "markdown",
      "metadata": {
        "id": "SVjWUFD8wFav",
        "colab_type": "text"
      },
      "source": [
        "The class weighing can be defined multiple ways; for example:\n",
        "\n",
        "* Domain expertise, determined by talking to subject matter experts.\n",
        "* Tuning, determined by a hyperparameter search such as a grid search.\n",
        "* Heuristic, specified using a general best practice.\n",
        "\n",
        "\n",
        "#### A best practice for using the class weighting is to use the inverse of the class distribution present in the training dataset."
      ]
    },
    {
      "cell_type": "markdown",
      "metadata": {
        "id": "dkGQLWlKq4ms",
        "colab_type": "text"
      },
      "source": [
        "*ratio of minority class to majority class in train and test dataset*"
      ]
    },
    {
      "cell_type": "code",
      "metadata": {
        "id": "CE7sdp28wOnH",
        "colab_type": "code",
        "outputId": "cc2eb893-1fda-4a23-c02e-73e33cd11750",
        "colab": {
          "base_uri": "https://localhost:8080/",
          "height": 34
        }
      },
      "source": [
        "y_train[y_train== 1].count() / y_train[y_train == 0].count()"
      ],
      "execution_count": 15,
      "outputs": [
        {
          "output_type": "execute_result",
          "data": {
            "text/plain": [
              "0.001732374402855793"
            ]
          },
          "metadata": {
            "tags": []
          },
          "execution_count": 15
        }
      ]
    },
    {
      "cell_type": "code",
      "metadata": {
        "id": "ydrg8oaRwja0",
        "colab_type": "code",
        "outputId": "6d47b948-6e88-4fd7-fa31-104c8c0172fa",
        "colab": {
          "base_uri": "https://localhost:8080/",
          "height": 34
        }
      },
      "source": [
        "y_test[y_test== 1].count() / y_test[y_test == 0].count()"
      ],
      "execution_count": 16,
      "outputs": [
        {
          "output_type": "execute_result",
          "data": {
            "text/plain": [
              "0.0017266187050359713"
            ]
          },
          "metadata": {
            "tags": []
          },
          "execution_count": 16
        }
      ]
    },
    {
      "cell_type": "code",
      "metadata": {
        "id": "wfuudRXdrKXR",
        "colab_type": "code",
        "colab": {}
      },
      "source": [
        "penalty = 'l2'\n",
        "C = 1.0\n",
        "class_weight = {0:0.25,1:1}\n",
        "random_state = 2018\n",
        "solver = 'liblinear'\n",
        "n_jobs = 1\n",
        "\n",
        "logReg = LogisticRegression(penalty=penalty, C=C, \n",
        "            class_weight=class_weight, random_state=random_state, \n",
        "                            solver=solver, n_jobs=n_jobs)"
      ],
      "execution_count": 0,
      "outputs": []
    },
    {
      "cell_type": "code",
      "metadata": {
        "id": "KGvcJ1fRrg6x",
        "colab_type": "code",
        "outputId": "95e338de-70e0-473c-e554-b77602b1871c",
        "colab": {
          "base_uri": "https://localhost:8080/",
          "height": 884
        }
      },
      "source": [
        "trainingScores = []\n",
        "cvScores = []\n",
        "predictionsBasedOnKFolds = pd.DataFrame(data=[],index=y_train.index,columns=[0,1])\n",
        "\n",
        "model = logReg\n",
        "i = 0\n",
        "for train_index, cv_index in k_fold.split(X_train,y_train.ravel()):\n",
        "    i +=1\n",
        "    X_train_fold, X_cv_fold = X_train.iloc[train_index,:],X_train.iloc[cv_index,:]\n",
        "    y_train_fold, y_cv_fold = y_train.iloc[train_index],y_train.iloc[cv_index]\n",
        "    \n",
        "    model.fit(X_train_fold, y_train_fold)\n",
        "    loglossTraining = log_loss(y_train_fold,model.predict_proba(X_train_fold)[:,1])\n",
        "    trainingScores.append(loglossTraining)\n",
        "    trainCV = accuracy_score(y_train_fold, model.predict(X_train_fold))\n",
        "\n",
        "    predictionsBasedOnKFolds.loc[X_cv_fold.index,:] = model.predict_proba(X_cv_fold)  \n",
        "    loglossCV = log_loss(y_cv_fold, predictionsBasedOnKFolds.loc[X_cv_fold.index,1])\n",
        "    accCV = accuracy_score(y_cv_fold, model.predict(X_cv_fold))\n",
        "    cvScores.append(loglossCV)\n",
        "    \n",
        "    print(\"K Fold :\",i)\n",
        "    print('*'* 80)\n",
        "    print('Training Log Loss: ', loglossTraining)\n",
        "    print('CV Log Loss: ', loglossCV)\n",
        "    print('\\n')\n",
        "    print('Training Accuracy: ', trainCV)\n",
        "    print('CV Accuracy: ', accCV)\n",
        "    print('\\n')\n",
        "    \n",
        "loglossLogisticRegression = log_loss(y_train, predictionsBasedOnKFolds.loc[:,1])\n",
        "print('Logistic Regression Log Loss: ', loglossLogisticRegression)\n"
      ],
      "execution_count": 18,
      "outputs": [
        {
          "output_type": "stream",
          "text": [
            "K Fold : 1\n",
            "********************************************************************************\n",
            "Training Log Loss:  0.008145464622250586\n",
            "CV Log Loss:  0.007908166999687525\n",
            "\n",
            "\n",
            "Training Accuracy:  0.9992204695524578\n",
            "CV Accuracy:  0.9991091080599518\n",
            "\n",
            "\n",
            "K Fold : 2\n",
            "********************************************************************************\n",
            "Training Log Loss:  0.006862985669699479\n",
            "CV Log Loss:  0.005910341339534392\n",
            "\n",
            "\n",
            "Training Accuracy:  0.9992335709045174\n",
            "CV Accuracy:  0.9992925269887852\n",
            "\n",
            "\n",
            "K Fold : 3\n",
            "********************************************************************************\n",
            "Training Log Loss:  0.006984663430861408\n",
            "CV Log Loss:  0.007981254532896238\n",
            "\n",
            "\n",
            "Training Accuracy:  0.9991811654962792\n",
            "CV Accuracy:  0.9991353107640708\n",
            "\n",
            "\n",
            "K Fold : 4\n",
            "********************************************************************************\n",
            "Training Log Loss:  0.008327198800192639\n",
            "CV Log Loss:  0.00816969323305873\n",
            "\n",
            "\n",
            "Training Accuracy:  0.9992139188764281\n",
            "CV Accuracy:  0.9992925269887852\n",
            "\n",
            "\n",
            "K Fold : 5\n",
            "********************************************************************************\n",
            "Training Log Loss:  0.00573495980847293\n",
            "CV Log Loss:  0.007367421363726047\n",
            "\n",
            "\n",
            "Training Accuracy:  0.9993056283408448\n",
            "CV Accuracy:  0.9991353107640708\n",
            "\n",
            "\n",
            "Logistic Regression Log Loss:  0.007467375493780584\n"
          ],
          "name": "stdout"
        }
      ]
    },
    {
      "cell_type": "markdown",
      "metadata": {
        "id": "feXGDDUMwRAZ",
        "colab_type": "text"
      },
      "source": [
        "# ROC Curve"
      ]
    },
    {
      "cell_type": "code",
      "metadata": {
        "id": "5Zu1pjPtwQQd",
        "colab_type": "code",
        "outputId": "379dba92-d773-4303-a53d-4cc22e20f64e",
        "colab": {
          "base_uri": "https://localhost:8080/",
          "height": 296
        }
      },
      "source": [
        "from sklearn.metrics import plot_roc_curve,plot_confusion_matrix\n",
        "plot_roc_curve(logReg,X_test,y_test)"
      ],
      "execution_count": 19,
      "outputs": [
        {
          "output_type": "execute_result",
          "data": {
            "text/plain": [
              "<sklearn.metrics._plot.roc_curve.RocCurveDisplay at 0x7f1a6e73a550>"
            ]
          },
          "metadata": {
            "tags": []
          },
          "execution_count": 19
        },
        {
          "output_type": "display_data",
          "data": {
            "image/png": "[encoded data removed]",
            "text/plain": [
              "<Figure size 432x288 with 1 Axes>"
            ]
          },
          "metadata": {
            "tags": [],
            "needs_background": "light"
          }
        }
      ]
    },
    {
      "cell_type": "code",
      "metadata": {
        "id": "orNcnGP63LCF",
        "colab_type": "code",
        "outputId": "10ae756c-f123-4629-9c8f-94212062da8d",
        "colab": {
          "base_uri": "https://localhost:8080/",
          "height": 296
        }
      },
      "source": [
        "plot_confusion_matrix(logReg,X_test,y_test,normalize='true')"
      ],
      "execution_count": 20,
      "outputs": [
        {
          "output_type": "execute_result",
          "data": {
            "text/plain": [
              "<sklearn.metrics._plot.confusion_matrix.ConfusionMatrixDisplay at 0x7f1a6c5b7ba8>"
            ]
          },
          "metadata": {
            "tags": []
          },
          "execution_count": 20
        },
        {
          "output_type": "display_data",
          "data": {
            "image/png": "[encoded data removed]",
            "text/plain": [
              "<Figure size 432x288 with 2 Axes>"
            ]
          },
          "metadata": {
            "tags": [],
            "needs_background": "light"
          }
        }
      ]
    },
    {
      "cell_type": "code",
      "metadata": {
        "id": "iz2aLhjH3gd8",
        "colab_type": "code",
        "outputId": "99215ae9-b149-4d56-e8e1-38f33bea6664",
        "colab": {
          "base_uri": "https://localhost:8080/",
          "height": 34
        }
      },
      "source": [
        "from sklearn.metrics import f1_score\n",
        "f1_score(y_test,logReg.predict(X_test))"
      ],
      "execution_count": 21,
      "outputs": [
        {
          "output_type": "execute_result",
          "data": {
            "text/plain": [
              "0.7863777089783281"
            ]
          },
          "metadata": {
            "tags": []
          },
          "execution_count": 21
        }
      ]
    },
    {
      "cell_type": "markdown",
      "metadata": {
        "id": "TPeGqEliWmaR",
        "colab_type": "text"
      },
      "source": [
        "# The scikit-learn library provides an implementation of the best practice heuristic for the class weighting.\n",
        "\n",
        "It is implemented via the compute_class_weight() function and is calculated as:\n",
        "\n",
        "**n_samples / (n_classes * n_samples_with_class)**\n",
        "\n",
        "\n",
        "We can test this calculation manually on our dataset. \n",
        "\n",
        "\n",
        "For example, we have 10,000 examples in the dataset, 9900 in class 0, and 100 in class 1.\n",
        "\n",
        "The weighting for class 0 is calculated as:\n",
        "\n",
        "weighting = n_samples / (n_classes * n_samples_with_class)\n",
        "\n",
        "weighting = 10000 / (2 * 9900)\n",
        "\n",
        "weighting = 10000 / 19800\n",
        "\n",
        "weighting = 0.05\n",
        "\n",
        "The weighting for class 1 is calculated as:\n",
        "\n",
        "weighting = n_samples / (n_classes * n_samples_with_class)\n",
        "\n",
        "weighting = 10000 / (2 * 100)\n",
        "\n",
        "weighting = 10000 / 200\n",
        "\n",
        "weighting = 50\n",
        "\n",
        "We can confirm these calculations by calling the compute_class_weight() function and specifying the class_weight as “balanced.”\n",
        "\n"
      ]
    },
    {
      "cell_type": "code",
      "metadata": {
        "id": "bzW5dF2BXF4q",
        "colab_type": "code",
        "colab": {
          "base_uri": "https://localhost:8080/",
          "height": 34
        },
        "outputId": "cf8d99e9-5a14-4740-830c-612bace38609"
      },
      "source": [
        "from sklearn.utils.class_weight import compute_class_weight\n",
        "# calculate class weighting\n",
        "weighting = compute_class_weight('balanced', [0,1], Y)\n",
        "print(weighting)"
      ],
      "execution_count": 22,
      "outputs": [
        {
          "output_type": "stream",
          "text": [
            "[  0.50086524 289.43800813]\n"
          ],
          "name": "stdout"
        }
      ]
    },
    {
      "cell_type": "markdown",
      "metadata": {
        "id": "XQM7_I2MXkYM",
        "colab_type": "text"
      },
      "source": [
        "# Grid Search Weighted Logistic Regression"
      ]
    },
    {
      "cell_type": "code",
      "metadata": {
        "id": "JZ_-pjikXlss",
        "colab_type": "code",
        "colab": {}
      },
      "source": [
        "from sklearn.model_selection import GridSearchCV\n",
        "\n",
        "\n",
        "\n",
        "balance = [{0:0.45,1:1},{0:0.5,1:1}, {0:0.15,1:1}, {0:0.35,1:1}, {0:0.25,1:1}, {0:0.6,1:1}]\n",
        "param_grid = dict(class_weight=balance)\n",
        "#\n",
        "grid = GridSearchCV(estimator= logReg, param_grid=param_grid, n_jobs=-1, cv=5, scoring='f1')"
      ],
      "execution_count": 0,
      "outputs": []
    },
    {
      "cell_type": "code",
      "metadata": {
        "id": "zCAlxMbZY1Pk",
        "colab_type": "code",
        "colab": {
          "base_uri": "https://localhost:8080/",
          "height": 272
        },
        "outputId": "09127f5c-3b4c-4ee2-f7d0-1b315ddf0e62"
      },
      "source": [
        "grid.fit(X,Y)"
      ],
      "execution_count": 24,
      "outputs": [
        {
          "output_type": "execute_result",
          "data": {
            "text/plain": [
              "GridSearchCV(cv=5, error_score=nan,\n",
              "             estimator=LogisticRegression(C=1.0, class_weight={0: 0.25, 1: 1},\n",
              "                                          dual=False, fit_intercept=True,\n",
              "                                          intercept_scaling=1, l1_ratio=None,\n",
              "                                          max_iter=100, multi_class='auto',\n",
              "                                          n_jobs=1, penalty='l2',\n",
              "                                          random_state=2018, solver='liblinear',\n",
              "                                          tol=0.0001, verbose=0,\n",
              "                                          warm_start=False),\n",
              "             iid='deprecated', n_jobs=-1,\n",
              "             param_grid={'class_weight': [{0: 0.45, 1: 1}, {0: 0.5, 1: 1},\n",
              "                                          {0: 0.15, 1: 1}, {0: 0.35, 1: 1},\n",
              "                                          {0: 0.25, 1: 1}, {0: 0.6, 1: 1}]},\n",
              "             pre_dispatch='2*n_jobs', refit=True, return_train_score=False,\n",
              "             scoring='f1', verbose=0)"
            ]
          },
          "metadata": {
            "tags": []
          },
          "execution_count": 24
        }
      ]
    },
    {
      "cell_type": "code",
      "metadata": {
        "id": "8zbU2Gx7bRp0",
        "colab_type": "code",
        "colab": {
          "base_uri": "https://localhost:8080/",
          "height": 51
        },
        "outputId": "f6deaaa1-9d6d-4b96-d1f3-e81d44dd6d0c"
      },
      "source": [
        "print(f'best parameters : {grid.best_params_}')\n",
        "print(f'best parameters : {grid.best_score_}')"
      ],
      "execution_count": 25,
      "outputs": [
        {
          "output_type": "stream",
          "text": [
            "best parameters : {'class_weight': {0: 0.25, 1: 1}}\n",
            "best parameters : 0.6994267923850955\n"
          ],
          "name": "stdout"
        }
      ]
    },
    {
      "cell_type": "code",
      "metadata": {
        "id": "83SNIziocoIz",
        "colab_type": "code",
        "colab": {
          "base_uri": "https://localhost:8080/",
          "height": 119
        },
        "outputId": "7a3c5718-0286-46d0-bdef-bf6c5ca9ffee"
      },
      "source": [
        "means = grid.cv_results_['mean_test_score']\n",
        "stds = grid.cv_results_['std_test_score']\n",
        "params = grid.cv_results_['params']\n",
        "for mean, stdev, param in zip(means, stds, params):\n",
        "    print(\"%f (%f) with: %r\" % (mean, stdev, param))"
      ],
      "execution_count": 26,
      "outputs": [
        {
          "output_type": "stream",
          "text": [
            "0.613694 (0.244283) with: {'class_weight': {0: 0.45, 1: 1}}\n",
            "0.623085 (0.239718) with: {'class_weight': {0: 0.5, 1: 1}}\n",
            "0.654532 (0.257470) with: {'class_weight': {0: 0.15, 1: 1}}\n",
            "0.674018 (0.257954) with: {'class_weight': {0: 0.35, 1: 1}}\n",
            "0.699427 (0.178417) with: {'class_weight': {0: 0.25, 1: 1}}\n",
            "0.552476 (0.263848) with: {'class_weight': {0: 0.6, 1: 1}}\n"
          ],
          "name": "stdout"
        }
      ]
    },
    {
      "cell_type": "code",
      "metadata": {
        "id": "tCWyrWqxuXYN",
        "colab_type": "code",
        "colab": {
          "base_uri": "https://localhost:8080/",
          "height": 34
        },
        "outputId": "357a900f-e671-4d10-f320-9f1190b5a0dd"
      },
      "source": [
        "f1_score(y_test,grid.best_estimator_.predict(X_test))"
      ],
      "execution_count": 27,
      "outputs": [
        {
          "output_type": "execute_result",
          "data": {
            "text/plain": [
              "0.7831325301204819"
            ]
          },
          "metadata": {
            "tags": []
          },
          "execution_count": 27
        }
      ]
    },
    {
      "cell_type": "code",
      "metadata": {
        "id": "UJkS5gQ0Qkoh",
        "colab_type": "code",
        "colab": {
          "base_uri": "https://localhost:8080/",
          "height": 296
        },
        "outputId": "cc208686-5b62-463f-87e9-5bec2f07e7d1"
      },
      "source": [
        "from sklearn.metrics import plot_precision_recall_curve\n",
        "\n",
        "penalty = 'l2'\n",
        "C = 1.0\n",
        "class_weight = {0:0.25,1:1}\n",
        "random_state = 2018\n",
        "solver = 'liblinear'\n",
        "n_jobs = 1\n",
        "\n",
        "logReg = LogisticRegression(penalty=penalty, C=C, \n",
        "            class_weight=class_weight, random_state=random_state, \n",
        "                            solver=solver, n_jobs=n_jobs)\n",
        "\n",
        "logReg.fit(X_train,y_train)\n",
        "y_pred = logReg.predict(X_test)\n",
        "plot_precision_recall_curve(logReg,X_test,y_test)"
      ],
      "execution_count": 48,
      "outputs": [
        {
          "output_type": "execute_result",
          "data": {
            "text/plain": [
              "<sklearn.metrics._plot.precision_recall_curve.PrecisionRecallDisplay at 0x7f1a6e737ac8>"
            ]
          },
          "metadata": {
            "tags": []
          },
          "execution_count": 48
        },
        {
          "output_type": "display_data",
          "data": {
            "image/png": "[encoded data removed]",
            "text/plain": [
              "<Figure size 432x288 with 1 Axes>"
            ]
          },
          "metadata": {
            "tags": [],
            "needs_background": "light"
          }
        }
      ]
    },
    {
      "cell_type": "markdown",
      "metadata": {
        "id": "Mb_lbFlluVSb",
        "colab_type": "text"
      },
      "source": [
        "*with weight = 'balanced'*"
      ]
    },
    {
      "cell_type": "code",
      "metadata": {
        "id": "j3rEEfTPuZPB",
        "colab_type": "code",
        "outputId": "d3f899ba-05d0-46e1-a8d6-f9a9aff78ba2",
        "colab": {
          "base_uri": "https://localhost:8080/",
          "height": 867
        }
      },
      "source": [
        "penalty = 'l2'\n",
        "C = 1.0\n",
        "class_weight = 'balanced'\n",
        "random_state = 2018\n",
        "solver = 'liblinear'\n",
        "n_jobs = 1\n",
        "\n",
        "logReg = LogisticRegression(penalty=penalty, C=C, \n",
        "            class_weight=class_weight, random_state=random_state, \n",
        "                            solver=solver, n_jobs=n_jobs)\n",
        "\n",
        "\n",
        "\n",
        "model = logReg\n",
        "i = 0\n",
        "for train_index, cv_index in k_fold.split(X_train,y_train.ravel()):\n",
        "    i +=1\n",
        "    X_train_fold, X_cv_fold = X_train.iloc[train_index,:],X_train.iloc[cv_index,:]\n",
        "    y_train_fold, y_cv_fold = y_train.iloc[train_index],y_train.iloc[cv_index]\n",
        "    \n",
        "    model.fit(X_train_fold, y_train_fold)\n",
        "    loglossTraining = log_loss(y_train_fold,model.predict_proba(X_train_fold)[:,1])\n",
        "    #trainingScores.append(loglossTraining)\n",
        "    trainCV = accuracy_score(y_train_fold, model.predict(X_train_fold))\n",
        "\n",
        "    predictionsBasedOnKFolds.loc[X_cv_fold.index,:] = model.predict_proba(X_cv_fold)  \n",
        "    loglossCV = log_loss(y_cv_fold, predictionsBasedOnKFolds.loc[X_cv_fold.index,1])\n",
        "    accCV = accuracy_score(y_cv_fold, model.predict(X_cv_fold))\n",
        "    #cvScores.append(loglossCV)\n",
        "    \n",
        "    print(\"K Fold :\",i)\n",
        "    print('*'* 80)\n",
        "    print('Training Log Loss: ', loglossTraining)\n",
        "    print('CV Log Loss: ', loglossCV)\n",
        "    print('\\n')\n",
        "    print('Training Accuracy: ', trainCV)\n",
        "    print('CV Accuracy: ', accCV)\n",
        "    print('\\n')\n",
        "    \n"
      ],
      "execution_count": 28,
      "outputs": [
        {
          "output_type": "stream",
          "text": [
            "K Fold : 1\n",
            "********************************************************************************\n",
            "Training Log Loss:  0.10943413732968182\n",
            "CV Log Loss:  0.10858633973025444\n",
            "\n",
            "\n",
            "Training Accuracy:  0.97897888062048\n",
            "CV Accuracy:  0.9783041609894141\n",
            "\n",
            "\n",
            "K Fold : 2\n",
            "********************************************************************************\n",
            "Training Log Loss:  0.10452743402765072\n",
            "CV Log Loss:  0.10398720620602298\n",
            "\n",
            "\n",
            "Training Accuracy:  0.9734370086992977\n",
            "CV Accuracy:  0.9730636201656011\n",
            "\n",
            "\n",
            "K Fold : 3\n",
            "********************************************************************************\n",
            "Training Log Loss:  0.11558192793972848\n",
            "CV Log Loss:  0.11799027363286076\n",
            "\n",
            "\n",
            "Training Accuracy:  0.9745702756524474\n",
            "CV Accuracy:  0.9755266743527932\n",
            "\n",
            "\n",
            "K Fold : 4\n",
            "********************************************************************************\n",
            "Training Log Loss:  0.11576325315426426\n",
            "CV Log Loss:  0.11834814977244154\n",
            "\n",
            "\n",
            "Training Accuracy:  0.9748912587779058\n",
            "CV Accuracy:  0.9747929986374594\n",
            "\n",
            "\n",
            "K Fold : 5\n",
            "********************************************************************************\n",
            "Training Log Loss:  0.09696884089803949\n",
            "CV Log Loss:  0.09686550936565624\n",
            "\n",
            "\n",
            "Training Accuracy:  0.977550833245991\n",
            "CV Accuracy:  0.9777277014987946\n",
            "\n",
            "\n"
          ],
          "name": "stdout"
        }
      ]
    },
    {
      "cell_type": "code",
      "metadata": {
        "id": "poi8Vs3_WGo1",
        "colab_type": "code",
        "colab": {
          "base_uri": "https://localhost:8080/",
          "height": 296
        },
        "outputId": "a77d837c-8db5-4f09-c6de-d5193202d97a"
      },
      "source": [
        "plot_roc_curve(logReg,X_test,y_test)"
      ],
      "execution_count": 29,
      "outputs": [
        {
          "output_type": "execute_result",
          "data": {
            "text/plain": [
              "<sklearn.metrics._plot.roc_curve.RocCurveDisplay at 0x7f1a6c4c0b38>"
            ]
          },
          "metadata": {
            "tags": []
          },
          "execution_count": 29
        },
        {
          "output_type": "display_data",
          "data": {
            "image/png": "[encoded data removed]",
            "text/plain": [
              "<Figure size 432x288 with 1 Axes>"
            ]
          },
          "metadata": {
            "tags": [],
            "needs_background": "light"
          }
        }
      ]
    },
    {
      "cell_type": "code",
      "metadata": {
        "id": "1vV3qDeOV4lh",
        "colab_type": "code",
        "colab": {
          "base_uri": "https://localhost:8080/",
          "height": 34
        },
        "outputId": "13f6a4ca-2ab8-4701-9ed4-f6127632ed2b"
      },
      "source": [
        "f1_score(y_test,logReg.predict(X_test))"
      ],
      "execution_count": 30,
      "outputs": [
        {
          "output_type": "execute_result",
          "data": {
            "text/plain": [
              "0.12374581939799333"
            ]
          },
          "metadata": {
            "tags": []
          },
          "execution_count": 30
        }
      ]
    },
    {
      "cell_type": "markdown",
      "metadata": {
        "id": "BYC1Q88dV9sD",
        "colab_type": "text"
      },
      "source": [
        "The F1 Score "
      ]
    },
    {
      "cell_type": "markdown",
      "metadata": {
        "id": "V0ODMdMDBeuV",
        "colab_type": "text"
      },
      "source": [
        "# Apply Oversamplting techniques\n",
        "\n",
        "In a dataset with highly unbalanced classes, if the classifier always \"predicts\" the most common class without performing any analysis of the features, it will still have a high accuracy rate, obviously illusory.\n",
        "\n",
        "\n",
        "*Random OverSampling*"
      ]
    },
    {
      "cell_type": "code",
      "metadata": {
        "id": "RXWRfGB6FdFX",
        "colab_type": "code",
        "colab": {}
      },
      "source": [
        "x = X_train.copy()\n",
        "x['Class'] = y_train"
      ],
      "execution_count": 0,
      "outputs": []
    },
    {
      "cell_type": "code",
      "metadata": {
        "id": "hsp-gyiFCgrw",
        "colab_type": "code",
        "colab": {}
      },
      "source": [
        "# Class count\n",
        "count_class_0, count_class_1 = x['Class'].value_counts()\n",
        "\n",
        "# Divide by class\n",
        "df_class_0 = x[x['Class'] == 0]\n",
        "df_class_1 = x[x['Class'] == 1]"
      ],
      "execution_count": 0,
      "outputs": []
    },
    {
      "cell_type": "code",
      "metadata": {
        "id": "obO6juIlFwLV",
        "colab_type": "code",
        "colab": {
          "base_uri": "https://localhost:8080/",
          "height": 34
        },
        "outputId": "2a7de7bb-3687-469d-9e99-16e1a742daff"
      },
      "source": [
        "df_class_0.shape,df_class_1.shape"
      ],
      "execution_count": 33,
      "outputs": [
        {
          "output_type": "execute_result",
          "data": {
            "text/plain": [
              "((190490, 31), (330, 31))"
            ]
          },
          "metadata": {
            "tags": []
          },
          "execution_count": 33
        }
      ]
    },
    {
      "cell_type": "markdown",
      "metadata": {
        "id": "MjtGmgVkF_Ek",
        "colab_type": "text"
      },
      "source": [
        "*Random over-sampling*"
      ]
    },
    {
      "cell_type": "code",
      "metadata": {
        "id": "Xg9Xi5u_CO1U",
        "colab_type": "code",
        "colab": {
          "base_uri": "https://localhost:8080/",
          "height": 346
        },
        "outputId": "88090b52-9348-4b98-efcc-b7ef97c2989e"
      },
      "source": [
        "df_class_1_over = df_class_1.sample(count_class_0, replace=True)\n",
        "df_test_over = pd.concat([df_class_0, df_class_1_over], axis=0)\n",
        "\n",
        "print('Random over-sampling:')\n",
        "print(df_test_over.Class.value_counts())\n",
        "\n",
        "df_test_over.Class.value_counts().plot(kind='bar', title='Count (Class)');"
      ],
      "execution_count": 34,
      "outputs": [
        {
          "output_type": "stream",
          "text": [
            "Random over-sampling:\n",
            "1    190490\n",
            "0    190490\n",
            "Name: Class, dtype: int64\n"
          ],
          "name": "stdout"
        },
        {
          "output_type": "display_data",
          "data": {
            "image/png": "[encoded data removed]",
            "text/plain": [
              "<Figure size 432x288 with 1 Axes>"
            ]
          },
          "metadata": {
            "tags": [],
            "needs_background": "light"
          }
        }
      ]
    },
    {
      "cell_type": "code",
      "metadata": {
        "id": "m_Vj_rQXGgxs",
        "colab_type": "code",
        "colab": {}
      },
      "source": [
        "X_train = df_test_over.drop('Class',axis=1)\n",
        "y_train = df_test_over['Class']"
      ],
      "execution_count": 0,
      "outputs": []
    },
    {
      "cell_type": "code",
      "metadata": {
        "id": "zDYV2rG7G63f",
        "colab_type": "code",
        "colab": {
          "base_uri": "https://localhost:8080/",
          "height": 1000
        },
        "outputId": "766e90a2-8281-4e52-b7f2-256845f6b36f"
      },
      "source": [
        "penalty = 'l2'\n",
        "C = 1.0\n",
        "class_weight = 'balanced'\n",
        "random_state = 2018\n",
        "solver = 'liblinear'\n",
        "n_jobs = 1\n",
        "\n",
        "logReg = LogisticRegression(penalty=penalty, C=C, \n",
        "            class_weight=class_weight, random_state=random_state, \n",
        "                            solver=solver, n_jobs=n_jobs)\n",
        "\n",
        "\n",
        "\n",
        "model = logReg\n",
        "i = 0\n",
        "for train_index, cv_index in k_fold.split(X_train,y_train.ravel()):\n",
        "    i +=1\n",
        "    X_train_fold, X_cv_fold = X_train.iloc[train_index,:],X_train.iloc[cv_index,:]\n",
        "    y_train_fold, y_cv_fold = y_train.iloc[train_index],y_train.iloc[cv_index]\n",
        "    \n",
        "    model.fit(X_train_fold, y_train_fold)\n",
        "    loglossTraining = log_loss(y_train_fold,model.predict_proba(X_train_fold)[:,1])\n",
        "    #trainingScores.append(loglossTraining)\n",
        "    trainCV = accuracy_score(y_train_fold, model.predict(X_train_fold))\n",
        "    trainf1 = f1_score(y_train_fold,model.predict(X_train_fold))\n",
        "\n",
        "    predictionsBasedOnKFolds.loc[X_cv_fold.index,:] = model.predict_proba(X_cv_fold)  \n",
        "    loglossCV = log_loss(y_cv_fold, predictionsBasedOnKFolds.loc[X_cv_fold.index,1])\n",
        "    accCV = accuracy_score(y_cv_fold, model.predict(X_cv_fold))\n",
        "    testf1 = f1_score(y_cv_fold,model.predict(X_cv_fold))\n",
        "    #cvScores.append(loglossCV)\n",
        "    \n",
        "    print(\"K Fold :\",i)\n",
        "    print('*'* 80)\n",
        "    print('Training Log Loss: ', loglossTraining)\n",
        "    print('CV Log Loss: ', loglossCV)\n",
        "    print('\\n')\n",
        "    print('Training Accuracy: ', trainCV)\n",
        "    print('CV Accuracy: ', accCV)\n",
        "    print('\\n')\n",
        "\n",
        "    print('Training F1 Score : ', trainf1)\n",
        "    print('CV F1 Score : ', testf1)\n",
        "    print('\\n')"
      ],
      "execution_count": 36,
      "outputs": [
        {
          "output_type": "stream",
          "text": [
            "K Fold : 1\n",
            "********************************************************************************\n",
            "Training Log Loss:  0.17181559076338546\n",
            "CV Log Loss:  0.17014770042324898\n",
            "\n",
            "\n",
            "Training Accuracy:  0.9388419339597879\n",
            "CV Accuracy:  0.9400230983253715\n",
            "\n",
            "\n",
            "Training F1 Score :  0.936744514351258\n",
            "CV F1 Score :  0.9380456591291145\n",
            "\n",
            "\n",
            "K Fold : 2\n",
            "********************************************************************************\n",
            "Training Log Loss:  0.1583618775665272\n",
            "CV Log Loss:  0.15940322297775203\n",
            "\n",
            "\n",
            "Training Accuracy:  0.9454958265525749\n",
            "CV Accuracy:  0.9448921203212767\n",
            "\n",
            "\n",
            "Training F1 Score :  0.944156839543358\n",
            "CV F1 Score :  0.9434851074711638\n",
            "\n",
            "\n",
            "K Fold : 3\n",
            "********************************************************************************\n",
            "Training Log Loss:  0.16012230370261646\n",
            "CV Log Loss:  0.16425901443008162\n",
            "\n",
            "\n",
            "Training Accuracy:  0.9434714420704499\n",
            "CV Accuracy:  0.941506115806604\n",
            "\n",
            "\n",
            "Training F1 Score :  0.9418809012187841\n",
            "CV F1 Score :  0.939728731963921\n",
            "\n",
            "\n",
            "K Fold : 4\n",
            "********************************************************************************\n",
            "Training Log Loss:  0.21927500522761093\n",
            "CV Log Loss:  0.21603282760533485\n",
            "\n",
            "\n",
            "Training Accuracy:  0.9275224421229461\n",
            "CV Accuracy:  0.9305212872066775\n",
            "\n",
            "\n",
            "Training F1 Score :  0.9232330393322072\n",
            "CV F1 Score :  0.9266454205348484\n",
            "\n",
            "\n",
            "K Fold : 5\n",
            "********************************************************************************\n",
            "Training Log Loss:  0.15121885365849497\n",
            "CV Log Loss:  0.15253746804313986\n",
            "\n",
            "\n",
            "Training Accuracy:  0.9416603233765553\n",
            "CV Accuracy:  0.9404955640716048\n",
            "\n",
            "\n",
            "Training F1 Score :  0.9400996486358109\n",
            "CV F1 Score :  0.9388322270789488\n",
            "\n",
            "\n"
          ],
          "name": "stdout"
        }
      ]
    },
    {
      "cell_type": "code",
      "metadata": {
        "id": "QiaQT6yRH_8Y",
        "colab_type": "code",
        "colab": {
          "base_uri": "https://localhost:8080/",
          "height": 296
        },
        "outputId": "d57397ea-f49d-4001-a1ec-ce13017731d6"
      },
      "source": [
        "plot_confusion_matrix(logReg,X_test,y_test,normalize='true')"
      ],
      "execution_count": 37,
      "outputs": [
        {
          "output_type": "execute_result",
          "data": {
            "text/plain": [
              "<sklearn.metrics._plot.confusion_matrix.ConfusionMatrixDisplay at 0x7f1a6b464f60>"
            ]
          },
          "metadata": {
            "tags": []
          },
          "execution_count": 37
        },
        {
          "output_type": "display_data",
          "data": {
            "image/png": "[encoded data removed]",
            "text/plain": [
              "<Figure size 432x288 with 2 Axes>"
            ]
          },
          "metadata": {
            "tags": [],
            "needs_background": "light"
          }
        }
      ]
    },
    {
      "cell_type": "code",
      "metadata": {
        "id": "MIE0M7_3IHtL",
        "colab_type": "code",
        "colab": {
          "base_uri": "https://localhost:8080/",
          "height": 296
        },
        "outputId": "20514adf-3558-4947-f238-fb7ef9531e8e"
      },
      "source": [
        "plot_roc_curve(logReg,X_test,y_test)"
      ],
      "execution_count": 38,
      "outputs": [
        {
          "output_type": "execute_result",
          "data": {
            "text/plain": [
              "<sklearn.metrics._plot.roc_curve.RocCurveDisplay at 0x7f1a6b464f28>"
            ]
          },
          "metadata": {
            "tags": []
          },
          "execution_count": 38
        },
        {
          "output_type": "display_data",
          "data": {
            "image/png": "[encoded data removed]",
            "text/plain": [
              "<Figure size 432x288 with 1 Axes>"
            ]
          },
          "metadata": {
            "tags": [],
            "needs_background": "light"
          }
        }
      ]
    },
    {
      "cell_type": "code",
      "metadata": {
        "id": "jzDkhRT7IMz5",
        "colab_type": "code",
        "colab": {
          "base_uri": "https://localhost:8080/",
          "height": 170
        },
        "outputId": "b0ce0888-47cc-49f7-cbff-14673054714f"
      },
      "source": [
        "from sklearn.metrics import classification_report\n",
        "print(classification_report(y_test,logReg.predict(X_test)))"
      ],
      "execution_count": 39,
      "outputs": [
        {
          "output_type": "stream",
          "text": [
            "              precision    recall  f1-score   support\n",
            "\n",
            "           0       1.00      0.97      0.98     93825\n",
            "           1       0.05      0.93      0.09       162\n",
            "\n",
            "    accuracy                           0.97     93987\n",
            "   macro avg       0.52      0.95      0.54     93987\n",
            "weighted avg       1.00      0.97      0.98     93987\n",
            "\n"
          ],
          "name": "stdout"
        }
      ]
    },
    {
      "cell_type": "markdown",
      "metadata": {
        "id": "fjy81az_P7ka",
        "colab_type": "text"
      },
      "source": [
        "# SMOTE"
      ]
    },
    {
      "cell_type": "code",
      "metadata": {
        "id": "z_wlJAaVP9LH",
        "colab_type": "code",
        "colab": {
          "base_uri": "https://localhost:8080/",
          "height": 139
        },
        "outputId": "d1cdcce9-f115-44d8-a0b1-d72a53335551"
      },
      "source": [
        "from imblearn.over_sampling import SMOTE\n",
        "\n",
        "smote = SMOTE(ratio='minority')\n",
        "X_sm, y_sm = smote.fit_sample(x.drop('Class',axis=1),x['Class'])"
      ],
      "execution_count": 40,
      "outputs": [
        {
          "output_type": "stream",
          "text": [
            "/usr/local/lib/python3.6/dist-packages/sklearn/externals/six.py:31: FutureWarning: The module is deprecated in version 0.21 and will be removed in version 0.23 since we've dropped support for Python 2.7. Please rely on the official version of six (https://pypi.org/project/six/).\n",
            "  \"(https://pypi.org/project/six/).\", FutureWarning)\n",
            "/usr/local/lib/python3.6/dist-packages/sklearn/utils/deprecation.py:144: FutureWarning: The sklearn.neighbors.base module is  deprecated in version 0.22 and will be removed in version 0.24. The corresponding classes / functions should instead be imported from sklearn.neighbors. Anything that cannot be imported from sklearn.neighbors is now part of the private API.\n",
            "  warnings.warn(message, FutureWarning)\n",
            "/usr/local/lib/python3.6/dist-packages/sklearn/utils/deprecation.py:87: FutureWarning: Function safe_indexing is deprecated; safe_indexing is deprecated in version 0.22 and will be removed in version 0.24.\n",
            "  warnings.warn(msg, category=FutureWarning)\n"
          ],
          "name": "stderr"
        }
      ]
    },
    {
      "cell_type": "code",
      "metadata": {
        "id": "AARDOKz3QaXz",
        "colab_type": "code",
        "colab": {
          "base_uri": "https://localhost:8080/",
          "height": 286
        },
        "outputId": "1169bcf1-ee58-4cdb-e30e-934d55632c48"
      },
      "source": [
        "sns.countplot(y_sm)"
      ],
      "execution_count": 41,
      "outputs": [
        {
          "output_type": "execute_result",
          "data": {
            "text/plain": [
              "<matplotlib.axes._subplots.AxesSubplot at 0x7f1a6b27c1d0>"
            ]
          },
          "metadata": {
            "tags": []
          },
          "execution_count": 41
        },
        {
          "output_type": "display_data",
          "data": {
            "image/png": "[encoded data removed]",
            "text/plain": [
              "<Figure size 432x288 with 1 Axes>"
            ]
          },
          "metadata": {
            "tags": [],
            "needs_background": "light"
          }
        }
      ]
    },
    {
      "cell_type": "code",
      "metadata": {
        "id": "P0saySpxQoMg",
        "colab_type": "code",
        "colab": {
          "base_uri": "https://localhost:8080/",
          "height": 1000
        },
        "outputId": "f61a6ca5-1502-4ea0-b3eb-f4c6de43a04a"
      },
      "source": [
        "model = logReg\n",
        "i = 0\n",
        "for train_index, cv_index in k_fold.split(X_sm,y_sm):\n",
        "    i +=1\n",
        "    X_train_fold, X_cv_fold = X_sm[train_index,:],X_sm[cv_index,:]\n",
        "    y_train_fold, y_cv_fold = y_sm[train_index],y_sm[cv_index]\n",
        "    \n",
        "    model.fit(X_train_fold, y_train_fold)\n",
        "    loglossTraining = log_loss(y_train_fold,model.predict_proba(X_train_fold)[:,1])\n",
        "    #trainingScores.append(loglossTraining)\n",
        "    trainCV = accuracy_score(y_train_fold, model.predict(X_train_fold))\n",
        "    trainf1 = f1_score(y_train_fold,model.predict(X_train_fold))\n",
        "\n",
        "    y_pred_proba = model.predict_proba(X_cv_fold)  \n",
        "    loglossCV = log_loss(y_cv_fold, y_pred_proba[:,1])\n",
        "    accCV = accuracy_score(y_cv_fold, model.predict(X_cv_fold))\n",
        "    testf1 = f1_score(y_cv_fold,model.predict(X_cv_fold))\n",
        "    #cvScores.append(loglossCV)\n",
        "    \n",
        "    print(\"K Fold :\",i)\n",
        "    print('*'* 80)\n",
        "    print('Training Log Loss: ', loglossTraining)\n",
        "    print('CV Log Loss: ', loglossCV)\n",
        "    print('\\n')\n",
        "    print('Training Accuracy: ', trainCV)\n",
        "    print('CV Accuracy: ', accCV)\n",
        "    print('\\n')\n",
        "\n",
        "    print('Training F1 Score : ', trainf1)\n",
        "    print('CV F1 Score : ', testf1)\n",
        "    print('\\n')"
      ],
      "execution_count": 42,
      "outputs": [
        {
          "output_type": "stream",
          "text": [
            "K Fold : 1\n",
            "********************************************************************************\n",
            "Training Log Loss:  0.10433102047345257\n",
            "CV Log Loss:  0.10463814257952808\n",
            "\n",
            "\n",
            "Training Accuracy:  0.9679970077169405\n",
            "CV Accuracy:  0.9673998635098955\n",
            "\n",
            "\n",
            "Training F1 Score :  0.9675076783679888\n",
            "CV F1 Score :  0.9668888296454278\n",
            "\n",
            "\n",
            "K Fold : 2\n",
            "********************************************************************************\n",
            "Training Log Loss:  0.10542429740664859\n",
            "CV Log Loss:  0.10583470291895128\n",
            "\n",
            "\n",
            "Training Accuracy:  0.9673539293401229\n",
            "CV Accuracy:  0.9669273977636621\n",
            "\n",
            "\n",
            "Training F1 Score :  0.9668271410663324\n",
            "CV F1 Score :  0.9663892445582587\n",
            "\n",
            "\n",
            "K Fold : 3\n",
            "********************************************************************************\n",
            "Training Log Loss:  0.08546469271333691\n",
            "CV Log Loss:  0.08486650957411798\n",
            "\n",
            "\n",
            "Training Accuracy:  0.9711664654312563\n",
            "CV Accuracy:  0.9718751640506064\n",
            "\n",
            "\n",
            "Training F1 Score :  0.9708193041526376\n",
            "CV F1 Score :  0.9715431500391731\n",
            "\n",
            "\n",
            "K Fold : 4\n",
            "********************************************************************************\n",
            "Training Log Loss:  0.08413516353237188\n",
            "CV Log Loss:  0.08297963482693956\n",
            "\n",
            "\n",
            "Training Accuracy:  0.9716651792745026\n",
            "CV Accuracy:  0.9719539083416452\n",
            "\n",
            "\n",
            "Training F1 Score :  0.9713169746648777\n",
            "CV F1 Score :  0.9716175474479699\n",
            "\n",
            "\n",
            "K Fold : 5\n",
            "********************************************************************************\n",
            "Training Log Loss:  0.08425256768812633\n",
            "CV Log Loss:  0.08603862701458721\n",
            "\n",
            "\n",
            "Training Accuracy:  0.9716192451047299\n",
            "CV Accuracy:  0.9709039844611266\n",
            "\n",
            "\n",
            "Training F1 Score :  0.9712754370118484\n",
            "CV F1 Score :  0.9705378144560061\n",
            "\n",
            "\n"
          ],
          "name": "stdout"
        }
      ]
    },
    {
      "cell_type": "code",
      "metadata": {
        "id": "yVurQU2yRd1V",
        "colab_type": "code",
        "colab": {
          "base_uri": "https://localhost:8080/",
          "height": 296
        },
        "outputId": "bfb4bf98-7e97-434b-989a-13970572dac4"
      },
      "source": [
        "plot_confusion_matrix(logReg,X_test,y_test,normalize='true')"
      ],
      "execution_count": 43,
      "outputs": [
        {
          "output_type": "execute_result",
          "data": {
            "text/plain": [
              "<sklearn.metrics._plot.confusion_matrix.ConfusionMatrixDisplay at 0x7f1a6b1f1b38>"
            ]
          },
          "metadata": {
            "tags": []
          },
          "execution_count": 43
        },
        {
          "output_type": "display_data",
          "data": {
            "image/png": "[encoded data removed]",
            "text/plain": [
              "<Figure size 432x288 with 2 Axes>"
            ]
          },
          "metadata": {
            "tags": [],
            "needs_background": "light"
          }
        }
      ]
    },
    {
      "cell_type": "code",
      "metadata": {
        "id": "qlvZktG-RoO0",
        "colab_type": "code",
        "colab": {
          "base_uri": "https://localhost:8080/",
          "height": 170
        },
        "outputId": "d3d12549-f181-4c8e-a31b-1f3de4700d36"
      },
      "source": [
        "print(classification_report(y_test,logReg.predict(X_test)))"
      ],
      "execution_count": 44,
      "outputs": [
        {
          "output_type": "stream",
          "text": [
            "              precision    recall  f1-score   support\n",
            "\n",
            "           0       1.00      0.98      0.99     93825\n",
            "           1       0.09      0.90      0.16       162\n",
            "\n",
            "    accuracy                           0.98     93987\n",
            "   macro avg       0.54      0.94      0.57     93987\n",
            "weighted avg       1.00      0.98      0.99     93987\n",
            "\n"
          ],
          "name": "stdout"
        }
      ]
    },
    {
      "cell_type": "code",
      "metadata": {
        "id": "MbzOkemyTQt4",
        "colab_type": "code",
        "colab": {
          "base_uri": "https://localhost:8080/",
          "height": 34
        },
        "outputId": "a0f83768-b636-41ee-abb7-582b57c4f42c"
      },
      "source": [
        "f1_score(y_train,logReg.predict(X_train))"
      ],
      "execution_count": 45,
      "outputs": [
        {
          "output_type": "execute_result",
          "data": {
            "text/plain": [
              "0.9308337934842629"
            ]
          },
          "metadata": {
            "tags": []
          },
          "execution_count": 45
        }
      ]
    },
    {
      "cell_type": "code",
      "metadata": {
        "id": "Tv_nz-iaSvMl",
        "colab_type": "code",
        "colab": {
          "base_uri": "https://localhost:8080/",
          "height": 34
        },
        "outputId": "fea28442-9e82-4593-e072-3ababcd64ba7"
      },
      "source": [
        "f1_score(y_test,logReg.predict(X_test))"
      ],
      "execution_count": 46,
      "outputs": [
        {
          "output_type": "execute_result",
          "data": {
            "text/plain": [
              "0.15726681127982647"
            ]
          },
          "metadata": {
            "tags": []
          },
          "execution_count": 46
        }
      ]
    },
    {
      "cell_type": "markdown",
      "metadata": {
        "id": "DC_q11jZS5E0",
        "colab_type": "text"
      },
      "source": [
        "## Smoteing algorithms did not help in increasing the F1 score"
      ]
    },
    {
      "cell_type": "code",
      "metadata": {
        "id": "LjKmfKMPS3Xu",
        "colab_type": "code",
        "colab": {}
      },
      "source": [
        ""
      ],
      "execution_count": 0,
      "outputs": []
    }
  ]
}